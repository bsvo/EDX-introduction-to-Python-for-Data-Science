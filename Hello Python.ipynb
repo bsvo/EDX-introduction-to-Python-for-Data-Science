# EDX-introduction-to-Python-for-Data-Science
This repository pertains to the information from EDX's course, "Introduction to Python for Data Science"

## *The Python Interface*
 *Instruction: First Experiment in the Python shell a little bit. A value can be printed to the screen using the print function. For example, if I us*
