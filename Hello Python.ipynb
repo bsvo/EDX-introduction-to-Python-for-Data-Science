# EDX-introduction-to-Python-for-Data-Science

## *The Python Interface*
# print(hello)
